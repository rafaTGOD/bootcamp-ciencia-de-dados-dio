{
 "cells": [
  {
   "cell_type": "code",
   "execution_count": null,
   "id": "1dd6d06e-a401-4094-b837-95b2a796b32c",
   "metadata": {},
   "outputs": [],
   "source": [
    "# Decidi fazer um ETL simples, onde irei ler um arquivo CSV com 4 colunas, sendo elas: \n",
    "\n",
    "#nome_aluno = contém o nome dos alunos de uma escola hipotética\n",
    "#nota_p1 = contém a nota dos respectivos alunos na primeira prova\n",
    "#nota_p2 = contém a nota dos respectivos alunos na segunda prova\n",
    "\n",
    "# A ideia é criar um arquivo csv e ler esse arquivo via Python (Extract), transformá-lo adicionando uma coluna de média calculada e status informando se o aluno foi aprovado ou reprovado (Transform)\n",
    "# e por fim carregá-lo em um novo arquivo excel com as novas colunas (Load)"
   ]
  },
  {
   "cell_type": "code",
   "execution_count": 32,
   "id": "3c53009b-f09b-4199-a4c8-cc38e6ffdd92",
   "metadata": {},
   "outputs": [],
   "source": [
    "# EXTRACT\n",
    "\n",
    "# Importando as bibliotecas\n",
    "import pandas as pd\n",
    "import csv\n",
    "import openpyxl\n",
    "\n",
    "# Criando uma lista de alunos com seus nomes e notas \n",
    "alunos = [\n",
    "    {\"nome_aluno\": \"Maria da Silva\", \"notas_p1\": 9.5, \"notas_p2\": 8},\n",
    "    {\"nome_aluno\": \"Glauber dos Santos\", \"notas_p1\": 7, \"notas_p2\": 6.7},\n",
    "    {\"nome_aluno\": \"Glaucia Pereira\", \"notas_p1\": 8, \"notas_p2\": 9},\n",
    "    {\"nome_aluno\": \"Glauco Peres\", \"notas_p1\": 5.2, \"notas_p2\": 4},\n",
    "    {\"nome_aluno\": \"Geder Pinheiro\", \"notas_p1\": 4, \"notas_p2\": 7}\n",
    "]\n",
    "\n",
    "# Nome do arquivo CSV\n",
    "nome_arquivo = \"notas_alunos.csv\"\n",
    "\n",
    "# Escrevendo os dados no arquivo CSV\n",
    "with open(nome_arquivo, mode='w', newline='') as arquivo_csv:\n",
    "    campos = [\"nome_aluno\", \"notas_p1\", \"notas_p2\"]\n",
    "    escritor = csv.DictWriter(arquivo_csv, fieldnames=campos)\n",
    "    \n",
    "    escritor.writeheader()\n",
    "    for aluno in alunos:\n",
    "        escritor.writerow(aluno)\n",
    "\n",
    "# Lendo o arquivo csv e atribuindo-o na variável df\n",
    "df = pd.read_csv('notas_alunos.csv')"
   ]
  },
  {
   "cell_type": "code",
   "execution_count": 33,
   "id": "bd676a9d-57b2-4c4e-9329-1cfad85e2dd2",
   "metadata": {},
   "outputs": [],
   "source": [
    "# TRANSFORM\n",
    "\n",
    "# Cria a coluna média calculando a soma das notas das provas e dividindo por 2\n",
    "df['média'] = ((df['notas_p1'] + df['notas_p2']) / 2)\n",
    "\n",
    "# Cria a coluna status, atribuindo o valor 'aprovado' caso a média do aluno seja maior ou igual a 7 e reprovado caso seja menor que 7\n",
    "df['status'] = df['média'].apply(lambda media: 'aprovado' if media >= 7 else 'reprovado')\n"
   ]
  },
  {
   "cell_type": "code",
   "execution_count": 34,
   "id": "add7d636-12de-44ea-b3db-3513335318d5",
   "metadata": {},
   "outputs": [],
   "source": [
    "# LOAD\n",
    "\n",
    "# Carregando nosso df com as médias calculadas e os status dos alunos em um arquivo Excel\n",
    "df.to_excel('medias_alunos.xlsx', index=False)"
   ]
  }
 ],
 "metadata": {
  "kernelspec": {
   "display_name": "Python 3 (ipykernel)",
   "language": "python",
   "name": "python3"
  },
  "language_info": {
   "codemirror_mode": {
    "name": "ipython",
    "version": 3
   },
   "file_extension": ".py",
   "mimetype": "text/x-python",
   "name": "python",
   "nbconvert_exporter": "python",
   "pygments_lexer": "ipython3",
   "version": "3.11.5"
  }
 },
 "nbformat": 4,
 "nbformat_minor": 5
}
